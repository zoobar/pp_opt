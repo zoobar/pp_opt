import pypsa
import pandas as pd
import numpy as np

# 1. Create a new PyPSA Network
# We'll use a longer time series to better observe the effects of start-up costs
# and minimum up/down times.
snapshots = pd.date_range("2025-01-01 00:00", "2025-01-03 23:00", freq="h")
network = pypsa.Network(snapshots=snapshots)

# 2. Add Components to the Network

# Add a bus
network.add("Bus", "coal_bus")

# Add a generator representing the coal plant with unit commitment parameters.
# committable=True: Enables the on/off status of the generator.
# start_up_cost: Cost for starting the generator from an off state.
# shut_down_cost: Cost for shutting down the generator.
# min_up_time: Minimum number of hours the generator must run once started.
# min_down_time: Minimum number of hours the generator must stay off once shut down.
network.add("Generator",
            "coal_plant",
            bus="coal_bus",
            p_nom=1000,
            initial_status=False, # 1000 MW capacity
            marginal_cost=40,    # 30 EUR/MWh
            p_min_pu=0.3,        # Minimum stable load is 30% of capacity
            committable=True,    # Enable unit commitment
            start_up_cost=10000, # 10,000 EUR per start-up
            shut_down_cost=15000, # 2,000 EUR per shut-down
            min_up_time=4,       # Must run for at least 6 hours
            min_down_time=4)     # Must be off for at least 8 hours

# Add a load. This represents the demand for electricity.
network.add("Load",
            "electricity_demand",
            bus="coal_bus",
            p_set=800) # Constant demand of 800 MW

# Add a "market" component representing the electricity market.
# The price curve is extended for the longer simulation period.
np.random.seed(42)
price_variation = 10 + 35 * np.sin(np.linspace(0, 4 * np.pi, len(snapshots)))
noise = 20 * np.random.rand(len(snapshots))
price_curve = price_variation + noise
market_prices = pd.Series(price_curve, index=snapshots)

network.add("Generator",
            "market",
            bus="coal_bus",
            p_nom=1e6,  # Effectively infinite capacity
            marginal_cost=market_prices)

# 3. Run the Optimization
# The lopf function will now solve a Mixed-Integer Linear Program (MILP)
# because of the 'committable=True' flag.
network.optimize(solver_name="highs")

# 4. Analyze the Results
# The results now include the on/off status of the generator.

# Create a results DataFrame for clarity
results = pd.DataFrame({
    "Market Price (EUR/MWh)": market_prices,
    "Coal Plant Dispatch (MW)": network.generators_t.p["coal_plant"],
    "Coal Plant Status (On/Off)": network.generators_t.status["coal_plant"]
})

print("Optimal Dispatch and Status for the Coal Plant:")
print(results)

# Calculate and print total cost and revenue
marginal_cost = (network.generators_t.p["coal_plant"] * network.generators.at["coal_plant", "marginal_cost"]).sum()

# Calculate the number of start-ups and shut-downs
status = network.generators_t.status["coal_plant"]
start_ups = (status.diff() == 1).sum()
shut_downs = (status.diff() == -1).sum()

start_up_costs = start_ups * network.generators.at["coal_plant", "start_up_cost"]
shut_down_costs = shut_downs * network.generators.at["coal_plant", "shut_down_cost"]

total_cost = marginal_cost + start_up_costs + shut_down_costs
total_revenue = (network.generators_t.p["coal_plant"] * market_prices).sum()
profit = total_revenue - total_cost

print("\n--- Financial Summary ---")
print(f"Number of Start-ups: {start_ups}")
print(f"Number of Shut-downs: {shut_downs}")
print(f"\nMarginal Cost of Operation: {marginal_cost:,.2f} EUR")
print(f"Total Start-up Costs: {start_up_costs:,.2f} EUR")
print(f"Total Shut-down Costs: {shut_down_costs:,.2f} EUR")
print(f"Total Cost of Operation: {total_cost:,.2f} EUR")
print(f"Total Revenue from Market: {total_revenue:,.2f} EUR")
print(f"Total Profit: {profit:,.2f} EUR")

# The total system cost from the objective function should match our calculation
# (Note: it also includes the "cost" of the market generator, which can be ignored for plant profit)
print(f"\nSolver Objective (Total System Cost): {network.objective:,.2f} EUR")
